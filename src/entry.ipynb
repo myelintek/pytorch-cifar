{
 "cells": [
  {
   "cell_type": "code",
   "execution_count": 1,
   "metadata": {},
   "outputs": [
    {
     "name": "stdout",
     "output_type": "stream",
     "text": [
      "WARNING:root:key num_epochs is a list, use first value\n",
      "WARNING:root:key network is a list, use first value\n",
      "==> Preparing data..\n",
      "==> Building model..\n",
      "====================\n",
      "| network:MobileNet\n",
      "| num_epochs:5\n",
      "| learning_rate:0.1\n",
      "| momentum:0.9\n",
      "| weight_decay:0.0005\n",
      "| dataset:cifar10\n",
      "| batch_size-> train:128, test:100\n",
      "| dataset_worker-> train:2, test:2\n",
      "| checkpoint path: checkpoint.pth\n",
      "\n",
      "Epoch: 0\n",
      " [================================================================>]  Step: 209ms | Tot: 15s946ms | Loss: 1.773 | Acc: 34.218% (17109/50000)   391/391 \n",
      " [================================================================>]  Step: 8ms | Tot: 1s426ms | Loss: 1.476 | Acc: 45.490% (4549/10000)       100/100 \n",
      "Saving..\n",
      "\n",
      "Epoch: 1\n",
      " [================================================================>]  Step: 22ms | Tot: 15s386ms | Loss: 1.357 | Acc: 50.940% (25470/50000)    391/391 \n",
      " [================================================================>]  Step: 7ms | Tot: 1s583ms | Loss: 1.183 | Acc: 58.210% (5821/10000)       100/100 \n",
      "Saving..\n",
      "\n",
      "Epoch: 2\n",
      " [================================================================>]  Step: 23ms | Tot: 15s446ms | Loss: 1.121 | Acc: 60.396% (30198/50000)    391/391 \n",
      " [================================================================>]  Step: 21ms | Tot: 1s533ms | Loss: 1.007 | Acc: 64.610% (6461/10000)      100/100 \n",
      "Saving..\n",
      "\n",
      "Epoch: 3\n",
      " [================================================================>]  Step: 25ms | Tot: 15s876ms | Loss: 0.959 | Acc: 66.596% (33298/50000)    391/391 \n",
      " [================================================================>]  Step: 8ms | Tot: 1s571ms | Loss: 0.981 | Acc: 66.390% (6639/10000)       100/100 \n",
      "Saving..\n",
      "\n",
      "Epoch: 4\n",
      " [================================================================>]  Step: 29ms | Tot: 15s981ms | Loss: 0.868 | Acc: 69.914% (34957/50000)    391/391 \n",
      " [================================================================>]  Step: 6ms | Tot: 1s505ms | Loss: 0.818 | Acc: 71.450% (7145/10000)       100/100 \n",
      "Saving..\n",
      "=============\n",
      "Each accuracy:\n",
      "Accuracy of plane : 91.7 %\n",
      "Accuracy of   car : 62.7 %\n",
      "Accuracy of  bird : 50.0 %\n",
      "Accuracy of   cat : 29.1 %\n",
      "Accuracy of  deer : 108.6 %\n",
      "Accuracy of   dog : 52.5 %\n",
      "Accuracy of  frog : 45.3 %\n",
      "Accuracy of horse : 66.2 %\n",
      "Accuracy of  ship : 62.7 %\n",
      "Accuracy of truck : 42.9 %\n"
     ]
    }
   ],
   "source": [
    "#!/usr/bin/env python\n",
    "# ref: https://github.com/huyvnphan/PyTorch_CIFAR10\n",
    "!python3 trainer.py"
   ]
  },
  {
   "cell_type": "code",
   "execution_count": 2,
   "metadata": {},
   "outputs": [
    {
     "name": "stdout",
     "output_type": "stream",
     "text": [
      "WARNING:root:key num_epochs is a list, use first value\n",
      "WARNING:root:key network is a list, use first value\n",
      "==> Preparing data..\n",
      "==> Building model..\n",
      "==> Resuming from checkpoint checkpoint.pth ...\n",
      "====================\n",
      "| network:MobileNet\n",
      "| dataset:cifar10\n",
      "| batch_size:100\n",
      "| dataset_worker:2\n",
      "| checkpoint path: checkpoint.pth\n",
      " [================================================================>]  Step: 7ms | Tot: 1s492ms | Loss: 0.818 | Acc: 71.450% (7145/10000)       100/100 \n",
      "=============\n",
      "Each accuracy:\n",
      "Accuracy of plane : 91.7 %\n",
      "Accuracy of   car : 62.7 %\n",
      "Accuracy of  bird : 50.0 %\n",
      "Accuracy of   cat : 29.1 %\n",
      "Accuracy of  deer : 108.6 %\n",
      "Accuracy of   dog : 52.5 %\n",
      "Accuracy of  frog : 45.3 %\n",
      "Accuracy of horse : 66.2 %\n",
      "Accuracy of  ship : 62.7 %\n",
      "Accuracy of truck : 42.9 %\n"
     ]
    }
   ],
   "source": [
    "!python3 test.py"
   ]
  },
  {
   "cell_type": "code",
   "execution_count": null,
   "metadata": {},
   "outputs": [],
   "source": []
  }
 ],
 "metadata": {
  "kernelspec": {
   "display_name": "Python 3",
   "language": "python",
   "name": "python3"
  },
  "language_info": {
   "codemirror_mode": {
    "name": "ipython",
    "version": 3
   },
   "file_extension": ".py",
   "mimetype": "text/x-python",
   "name": "python",
   "nbconvert_exporter": "python",
   "pygments_lexer": "ipython3",
   "version": "3.6.8"
  }
 },
 "nbformat": 4,
 "nbformat_minor": 4
}

